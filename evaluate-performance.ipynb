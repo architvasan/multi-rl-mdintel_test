{
 "cells": [
  {
   "cell_type": "markdown",
   "id": "d3e3c052-8256-4135-ba9f-053712be0117",
   "metadata": {},
   "source": [
    "# Evaluate Performance\n",
    "Verify that we get similar performance for 1 task per node and 4 tasks per node (1 per GPU)"
   ]
  },
  {
   "cell_type": "code",
   "execution_count": 1,
   "id": "a71c4097-a516-4596-888a-f11ed461fd66",
   "metadata": {},
   "outputs": [],
   "source": [
    "%matplotlib inline\n",
    "from matplotlib import pyplot as plt\n",
    "import pandas as pd"
   ]
  },
  {
   "cell_type": "markdown",
   "id": "fe723c86-dbfd-4c23-9192-9f7a3298a1b9",
   "metadata": {},
   "source": [
    "## Load in the test data\n",
    "We saved the runtimes under different configurations"
   ]
  },
  {
   "cell_type": "code",
   "execution_count": 2,
   "id": "249cbb90-f963-4773-acec-ad983dc09eb5",
   "metadata": {},
   "outputs": [
    {
     "name": "stdout",
     "output_type": "stream",
     "text": [
      "Loaded 7 runs\n"
     ]
    }
   ],
   "source": [
    "data = pd.read_json('runtimes.json', lines=True)\n",
    "print(f'Loaded {len(data)} runs')"
   ]
  },
  {
   "cell_type": "code",
   "execution_count": 3,
   "id": "f78c3202-9b71-45d1-9b3a-cb88a5d92b86",
   "metadata": {},
   "outputs": [
    {
     "data": {
      "text/html": [
       "<div>\n",
       "<style scoped>\n",
       "    .dataframe tbody tr th:only-of-type {\n",
       "        vertical-align: middle;\n",
       "    }\n",
       "\n",
       "    .dataframe tbody tr th {\n",
       "        vertical-align: top;\n",
       "    }\n",
       "\n",
       "    .dataframe thead th {\n",
       "        text-align: right;\n",
       "    }\n",
       "</style>\n",
       "<table border=\"1\" class=\"dataframe\">\n",
       "  <thead>\n",
       "    <tr style=\"text-align: right;\">\n",
       "      <th></th>\n",
       "      <th>pdb_file</th>\n",
       "      <th>sim_time</th>\n",
       "      <th>repeat</th>\n",
       "      <th>single_time</th>\n",
       "      <th>multi_time</th>\n",
       "    </tr>\n",
       "  </thead>\n",
       "  <tbody>\n",
       "    <tr>\n",
       "      <th>2</th>\n",
       "      <td>2pwz_G.pdb</td>\n",
       "      <td>0.1</td>\n",
       "      <td>0</td>\n",
       "      <td>81.644669</td>\n",
       "      <td>84.953635</td>\n",
       "    </tr>\n",
       "    <tr>\n",
       "      <th>3</th>\n",
       "      <td>2pwz_G.pdb</td>\n",
       "      <td>0.1</td>\n",
       "      <td>1</td>\n",
       "      <td>78.981445</td>\n",
       "      <td>85.643832</td>\n",
       "    </tr>\n",
       "    <tr>\n",
       "      <th>4</th>\n",
       "      <td>2pwz_G.pdb</td>\n",
       "      <td>1.0</td>\n",
       "      <td>0</td>\n",
       "      <td>515.084400</td>\n",
       "      <td>528.706901</td>\n",
       "    </tr>\n",
       "    <tr>\n",
       "      <th>5</th>\n",
       "      <td>2pwz_G.pdb</td>\n",
       "      <td>1.0</td>\n",
       "      <td>1</td>\n",
       "      <td>510.662030</td>\n",
       "      <td>525.297399</td>\n",
       "    </tr>\n",
       "    <tr>\n",
       "      <th>6</th>\n",
       "      <td>2pwz_G.pdb</td>\n",
       "      <td>10.0</td>\n",
       "      <td>0</td>\n",
       "      <td>4891.028384</td>\n",
       "      <td>4976.971636</td>\n",
       "    </tr>\n",
       "  </tbody>\n",
       "</table>\n",
       "</div>"
      ],
      "text/plain": [
       "     pdb_file  sim_time  repeat  single_time   multi_time\n",
       "2  2pwz_G.pdb       0.1       0    81.644669    84.953635\n",
       "3  2pwz_G.pdb       0.1       1    78.981445    85.643832\n",
       "4  2pwz_G.pdb       1.0       0   515.084400   528.706901\n",
       "5  2pwz_G.pdb       1.0       1   510.662030   525.297399\n",
       "6  2pwz_G.pdb      10.0       0  4891.028384  4976.971636"
      ]
     },
     "execution_count": 3,
     "metadata": {},
     "output_type": "execute_result"
    }
   ],
   "source": [
    "data.tail()"
   ]
  },
  {
   "cell_type": "markdown",
   "id": "4d347f3e-d00e-45f3-ac4c-6b1f9a261d25",
   "metadata": {},
   "source": [
    "Compute the median for each test"
   ]
  },
  {
   "cell_type": "code",
   "execution_count": 4,
   "id": "08ecfb14-1da2-4ff1-9be4-0a401c7b9ae2",
   "metadata": {},
   "outputs": [],
   "source": [
    "columns = list(data.columns[:-3])\n",
    "summary = data.groupby(columns)[['single_time', 'multi_time']].median().reset_index()"
   ]
  },
  {
   "cell_type": "markdown",
   "id": "76373ceb-39dc-4531-ae6e-3a35e3d512ea",
   "metadata": {},
   "source": [
    "Compute the MD performance"
   ]
  },
  {
   "cell_type": "code",
   "execution_count": 5,
   "id": "0493ba0b-21b4-4525-87e5-25a9324ebd8f",
   "metadata": {},
   "outputs": [],
   "source": [
    "for t in ['single', 'multi']:\n",
    "    summary[f'{t}_rate'] = summary['sim_time'] / summary[f'{t}_time']"
   ]
  },
  {
   "cell_type": "code",
   "execution_count": 6,
   "id": "0613d333-4bf7-433b-b8e3-c0144e11546d",
   "metadata": {},
   "outputs": [
    {
     "data": {
      "text/html": [
       "<div>\n",
       "<style scoped>\n",
       "    .dataframe tbody tr th:only-of-type {\n",
       "        vertical-align: middle;\n",
       "    }\n",
       "\n",
       "    .dataframe tbody tr th {\n",
       "        vertical-align: top;\n",
       "    }\n",
       "\n",
       "    .dataframe thead th {\n",
       "        text-align: right;\n",
       "    }\n",
       "</style>\n",
       "<table border=\"1\" class=\"dataframe\">\n",
       "  <thead>\n",
       "    <tr style=\"text-align: right;\">\n",
       "      <th></th>\n",
       "      <th>pdb_file</th>\n",
       "      <th>sim_time</th>\n",
       "      <th>single_time</th>\n",
       "      <th>multi_time</th>\n",
       "      <th>single_rate</th>\n",
       "      <th>multi_rate</th>\n",
       "    </tr>\n",
       "  </thead>\n",
       "  <tbody>\n",
       "    <tr>\n",
       "      <th>0</th>\n",
       "      <td>2pwz_G.pdb</td>\n",
       "      <td>0.01</td>\n",
       "      <td>51.563015</td>\n",
       "      <td>39.644182</td>\n",
       "      <td>0.000194</td>\n",
       "      <td>0.000252</td>\n",
       "    </tr>\n",
       "    <tr>\n",
       "      <th>1</th>\n",
       "      <td>2pwz_G.pdb</td>\n",
       "      <td>0.10</td>\n",
       "      <td>80.313057</td>\n",
       "      <td>85.298734</td>\n",
       "      <td>0.001245</td>\n",
       "      <td>0.001172</td>\n",
       "    </tr>\n",
       "    <tr>\n",
       "      <th>2</th>\n",
       "      <td>2pwz_G.pdb</td>\n",
       "      <td>1.00</td>\n",
       "      <td>512.873215</td>\n",
       "      <td>527.002150</td>\n",
       "      <td>0.001950</td>\n",
       "      <td>0.001898</td>\n",
       "    </tr>\n",
       "    <tr>\n",
       "      <th>3</th>\n",
       "      <td>2pwz_G.pdb</td>\n",
       "      <td>10.00</td>\n",
       "      <td>4891.028384</td>\n",
       "      <td>4976.971636</td>\n",
       "      <td>0.002045</td>\n",
       "      <td>0.002009</td>\n",
       "    </tr>\n",
       "  </tbody>\n",
       "</table>\n",
       "</div>"
      ],
      "text/plain": [
       "     pdb_file  sim_time  single_time   multi_time  single_rate  multi_rate\n",
       "0  2pwz_G.pdb      0.01    51.563015    39.644182     0.000194    0.000252\n",
       "1  2pwz_G.pdb      0.10    80.313057    85.298734     0.001245    0.001172\n",
       "2  2pwz_G.pdb      1.00   512.873215   527.002150     0.001950    0.001898\n",
       "3  2pwz_G.pdb     10.00  4891.028384  4976.971636     0.002045    0.002009"
      ]
     },
     "execution_count": 6,
     "metadata": {},
     "output_type": "execute_result"
    }
   ],
   "source": [
    "summary.head()"
   ]
  },
  {
   "cell_type": "markdown",
   "id": "a2691bb7-3c27-4b81-9033-b33bbfe81497",
   "metadata": {},
   "source": [
    "## Plot rate as a function simulation time\n",
    "Fixing at two episodes, see the effect of batch size on the generation rate"
   ]
  },
  {
   "cell_type": "code",
   "execution_count": 7,
   "id": "2b3e2ec5-6f3a-4b3b-af89-20627c407fdb",
   "metadata": {},
   "outputs": [],
   "source": [
    "subset = summary.query('pdb_file==\"2pwz_G.pdb\"')"
   ]
  },
  {
   "cell_type": "code",
   "execution_count": 8,
   "id": "7a41283e-5ed0-4b40-bbec-505e480494e0",
   "metadata": {},
   "outputs": [
    {
     "data": {
      "text/plain": [
       "Text(0, 0.5, 'MD Rate (ns/day)')"
      ]
     },
     "execution_count": 8,
     "metadata": {},
     "output_type": "execute_result"
    },
    {
     "data": {
      "image/png": "[encoded data removed]",
      "text/plain": [
       "<Figure size 252x180 with 1 Axes>"
      ]
     },
     "metadata": {
      "needs_background": "light"
     },
     "output_type": "display_data"
    }
   ],
   "source": [
    "fig, ax = plt.subplots(figsize=(3.5, 2.5))\n",
    "\n",
    "for t in ['single', 'multi']:\n",
    "    ax.loglog(subset['sim_time'], subset[f'{t}_rate'] * 3600 * 24, '--o', label=t)\n",
    "\n",
    "ax.legend()\n",
    "ax.set_xlabel('Simulation Time')\n",
    "ax.set_ylabel('MD Rate (ns/day)')"
   ]
  },
  {
   "cell_type": "code",
   "execution_count": 9,
   "id": "d5a49279-3773-47b9-b633-2cf32897dccf",
   "metadata": {},
   "outputs": [
    {
     "data": {
      "text/plain": [
       "Text(0, 0.5, 'Runtime (min)')"
      ]
     },
     "execution_count": 9,
     "metadata": {},
     "output_type": "execute_result"
    },
    {
     "data": {
      "image/png": "[encoded data removed]",
      "text/plain": [
       "<Figure size 252x180 with 1 Axes>"
      ]
     },
     "metadata": {
      "needs_background": "light"
     },
     "output_type": "display_data"
    }
   ],
   "source": [
    "fig, ax = plt.subplots(figsize=(3.5, 2.5))\n",
    "\n",
    "for t in ['single', 'multi']:\n",
    "    ax.loglog(subset['sim_time'], subset[f'{t}_time'] / 60, '--o', label=t)\n",
    "\n",
    "ax.legend()\n",
    "ax.set_xlabel('Simulation Time (ns)')\n",
    "ax.set_ylabel('Runtime (min)')"
   ]
  },
  {
   "cell_type": "markdown",
   "id": "03f56954-6952-47a2-aa69-8e4be77f8c48",
   "metadata": {},
   "source": [
    "The performance differences between single and multi-node jobs become small for simulation times above 1ns."
   ]
  },
  {
   "cell_type": "code",
   "execution_count": null,
   "id": "a6db07e1-f3b4-4d61-81c2-01c6f694af07",
   "metadata": {},
   "outputs": [],
   "source": []
  }
 ],
 "metadata": {
  "kernelspec": {
   "display_name": "Python 3 (ipykernel)",
   "language": "python",
   "name": "python3"
  },
  "language_info": {
   "codemirror_mode": {
    "name": "ipython",
    "version": 3
   },
   "file_extension": ".py",
   "mimetype": "text/x-python",
   "name": "python",
   "nbconvert_exporter": "python",
   "pygments_lexer": "ipython3",
   "version": "3.7.4"
  }
 },
 "nbformat": 4,
 "nbformat_minor": 5
}
